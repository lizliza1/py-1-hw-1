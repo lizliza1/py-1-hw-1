{
  "nbformat": 4,
  "nbformat_minor": 0,
  "metadata": {
    "colab": {
      "name": "dom 1 -pyt",
      "provenance": [],
      "collapsed_sections": []
    },
    "kernelspec": {
      "name": "python3",
      "display_name": "Python 3"
    },
    "language_info": {
      "name": "python"
    }
  },
  "cells": [
    {
      "cell_type": "code",
      "execution_count": 62,
      "metadata": {
        "colab": {
          "base_uri": "https://localhost:8080/"
        },
        "id": "0lO_ZY96iFMX",
        "outputId": "657a9ee4-21be-448d-b9dd-4b2e51924922"
      },
      "outputs": [
        {
          "output_type": "stream",
          "name": "stdout",
          "text": [
            "Фраза 1 длиннее фразы 2\n"
          ]
        }
      ],
      "source": [
        "#Задание 1\n",
        "phrase_1 ='Насколько проще было бы писать программы, если бы не заказчики'\n",
        "phrase_2 ='640Кб должно хватить для любых задач. Билл Гейтс (по легенде)'\n",
        "if len('Насколько проще было бы писать программы, если бы не заказчики')>len('640Кб должно хватить для любых задач. Билл Гейтс (по легенде)'):\n",
        "   print ('Фраза 1 длиннее фразы 2')\n",
        "elif len('Насколько проще было бы писать программы, если бы не заказчики')<len('640Кб должно хватить для любых задач. Билл Гейтс (по легенде)'):\n",
        "   print ('Фраза 1 короче фразы 2')"
      ]
    },
    {
      "cell_type": "code",
      "source": [
        "phrase_1 = '640Кб должно хватить для любых задач. Билл Гейтс (по легенде)'\n",
        "phrase_2 = 'Насколько проще было бы писать программы, если бы не заказчики'\n",
        "if len('640Кб должно хватить для любых задач. Билл Гейтс (по легенде)')<len('Насколько проще было бы писать программы, если бы не заказчики'):\n",
        "  print ('Фраза 1 короче фразы 2')\n",
        "elif len('640Кб должно хватить для любых задач. Билл Гейтс (по легенде)')>len('Насколько проще было бы писать программы, если бы не заказчики'):\n",
        "  print ('Фраза 1 длиннее фразы 2')"
      ],
      "metadata": {
        "colab": {
          "base_uri": "https://localhost:8080/"
        },
        "id": "xKcuiJ0Ht7MP",
        "outputId": "2c14d9ef-775b-4c5b-f253-fa0b320dd749"
      },
      "execution_count": 63,
      "outputs": [
        {
          "output_type": "stream",
          "name": "stdout",
          "text": [
            "Фраза 1 короче фразы 2\n"
          ]
        }
      ]
    },
    {
      "cell_type": "code",
      "source": [
        "phrase_1 = 'Насколько проще было бы писать программы, если бы не заказчики'\n",
        "phrase_2 = 'Насколько проще было бы писать программы, если бы не заказчики'\n",
        "if len('Насколько проще было бы писать программы, если бы не заказчики')==len('Насколько проще было бы писать программы, если бы не заказчики'):\n",
        "  print ('Фразы равны')\n",
        "elif len('Насколько проще было бы писать программы, если бы не заказчики')>len('Насколько проще было бы писать программы, если бы не заказчики'):\n",
        "  print ('Фраза 1 длиннее фразы 2')\n",
        "elif len('Насколько проще было бы писать программы, если бы не заказчики')<len('Насколько проще было бы писать программы, если бы не заказчики'):\n",
        "  print ('Фраза 1 короче фразы 2')"
      ],
      "metadata": {
        "colab": {
          "base_uri": "https://localhost:8080/"
        },
        "id": "cuBSbBl6vFQs",
        "outputId": "096d4d5f-533e-4aab-cdcb-58a8f397c9e5"
      },
      "execution_count": 64,
      "outputs": [
        {
          "output_type": "stream",
          "name": "stdout",
          "text": [
            "Фразы равны\n"
          ]
        }
      ]
    },
    {
      "cell_type": "code",
      "source": [
        "#Задание 2\n",
        "year=int(input())\n",
        "if year % 4!=0 or (year % 100 == 0 and year % 400 != 0):\n",
        "    print('простой')\n",
        "else:\n",
        "    print('високосный')\n"
      ],
      "metadata": {
        "colab": {
          "base_uri": "https://localhost:8080/"
        },
        "id": "HzlUq7LWzthG",
        "outputId": "d1ab6ff0-fc6e-4336-ba48-060cba2c8cc9"
      },
      "execution_count": null,
      "outputs": [
        {
          "output_type": "stream",
          "name": "stdout",
          "text": [
            "2030\n",
            "простой\n"
          ]
        }
      ]
    },
    {
      "cell_type": "code",
      "source": [
        "#Задание 3\n",
        "date=int(input('Введите день Вашего рождения'))\n",
        "month=int(input('Введите месяц Вашего рождения'))\n",
        "if (date>=21 and date<=31 and month==3) or (date>=1 and date<=19 and month==4):\n",
        "  print('Овен')\n",
        "elif (date>=20 and date<=30 and month==4) or (date>=1 and date<=20 and month==5):\n",
        "  print('Телец')\n",
        "elif (date>=21 and date<=31 and month==5) or (date>=1 and date<=20 and month==6):\n",
        "  print('Близнецы')\n",
        "elif (date>=21 and date<=30 and month==6) or (date>=1 and date<=22 and month==7):\n",
        "  print('Рак')\n",
        "elif (date>=23 and date<=31 and month==7) or (date>=1 and date<=22 and month==8):\n",
        "  print('Лев')\n",
        "elif (date>=23 and date<=31 and month==8) or (date>=1 and date<=22 and month==9):\n",
        "  print('Дева')\n",
        "elif (date>=23 and date<=30 and month==9) or (date>=1 and date<=22 and month==10):\n",
        "  print('Весы')\n",
        "elif (date>=23 and date<=31 and month==10) or (date>=1 and date<=21 and month==11):\n",
        "  print('Скорпион')\n",
        "elif (date>=22 and date<=30 and month==11) or (date>=1 and date<=21 and month==12):\n",
        "  print('Стрелец')\n",
        "elif (date>=22 and date<=31 and month==12) or (date>=1 and date<=19 and month==1):\n",
        "  print('Козерог')\n",
        "elif (date>=20 and date<=31 and month==1) or (date>=1 and date<=18 and month==2):\n",
        "  print('Водолей')\n",
        "elif (date>=19 and date<=29 and month==2) or (date>=1 and date<=20 and month==3):\n",
        "  print('Рыбы')"
      ],
      "metadata": {
        "colab": {
          "base_uri": "https://localhost:8080/"
        },
        "id": "7zqqGSpAw0zJ",
        "outputId": "6c1cf3b0-e79a-44d5-ea77-b3694a87ca2e"
      },
      "execution_count": null,
      "outputs": [
        {
          "output_type": "stream",
          "name": "stdout",
          "text": [
            "Введите день Вашего рождения24\n",
            "Введите месяц Вашего рождения10\n",
            "Скорпион\n"
          ]
        }
      ]
    },
    {
      "cell_type": "code",
      "source": [
        "#Задание 4\n",
        "width=int(input('Введите ширину товара,см '))\n",
        "length=int(input('Введите длинну товара,см '))\n",
        "height=int(input('Ввидите выcоту товара,см '))\n",
        "if (width<=15 and length<=15 and height<=15):\n",
        "  print ('Коробка №1')\n",
        "elif (length>200):\n",
        "  print ('Упаковка для лыж')\n",
        "elif (width>15 and width<50 or length>15 and length<50 or height>15 and height<50):\n",
        "  print ('Коробка №2')\n",
        "else:\n",
        "  print ('Стандартная коробка №3')\n",
        "\n"
      ],
      "metadata": {
        "colab": {
          "base_uri": "https://localhost:8080/"
        },
        "id": "K9BzwNRe_EW3",
        "outputId": "9702d851-4730-42c4-d019-034219b7f46a"
      },
      "execution_count": null,
      "outputs": [
        {
          "output_type": "stream",
          "name": "stdout",
          "text": [
            "Введите ширину товара,см 44\n",
            "Введите длинну товара,см 444\n",
            "Ввидите выcоту товара,см 4\n",
            "Упаковка для лыж\n"
          ]
        }
      ]
    }
  ]
}